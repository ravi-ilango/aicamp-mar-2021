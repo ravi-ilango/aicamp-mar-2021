{
  "nbformat": 4,
  "nbformat_minor": 0,
  "metadata": {
    "accelerator": "GPU",
    "colab": {
      "name": "Quora-deduplicate.ipynb",
      "provenance": [],
      "collapsed_sections": []
    },
    "kernelspec": {
      "display_name": "Python 3",
      "language": "python",
      "name": "python3"
    },
    "language_info": {
      "codemirror_mode": {
        "name": "ipython",
        "version": 3
      },
      "file_extension": ".py",
      "mimetype": "text/x-python",
      "name": "python",
      "nbconvert_exporter": "python",
      "pygments_lexer": "ipython3",
      "version": "3.7.3"
    }
  },
  "cells": [
    {
      "cell_type": "markdown",
      "metadata": {
        "id": "uWMZCS3fngAT"
      },
      "source": [
        "### Quora question pairs - Use transformers for question comparison\n",
        "\n",
        "Data: from kaggle"
      ]
    },
    {
      "cell_type": "code",
      "metadata": {
        "id": "mnImPxOhQdjc"
      },
      "source": [
        "!pip install -U sentence-transformers\n"
      ],
      "execution_count": null,
      "outputs": []
    },
    {
      "cell_type": "code",
      "metadata": {
        "id": "TRxQp9uwS6FQ"
      },
      "source": [
        ""
      ],
      "execution_count": null,
      "outputs": []
    },
    {
      "cell_type": "code",
      "metadata": {
        "id": "Qt6Y6Ss3QWrU"
      },
      "source": [
        "from sentence_transformers import SentenceTransformer, util\n",
        "\n",
        "import pandas as pd\n",
        "import numpy as np\n",
        "\n",
        "from sklearn.metrics.pairwise import cosine_similarity\n",
        "\n",
        "import matplotlib.pyplot as plt\n",
        "%matplotlib inline"
      ],
      "execution_count": null,
      "outputs": []
    },
    {
      "cell_type": "code",
      "metadata": {
        "id": "-B2Tvwobb8g7"
      },
      "source": [
        ""
      ],
      "execution_count": null,
      "outputs": []
    },
    {
      "cell_type": "markdown",
      "metadata": {
        "id": "tF-JkmKQb-YQ"
      },
      "source": [
        "#### Prepare data - Quora questions"
      ]
    },
    {
      "cell_type": "code",
      "metadata": {
        "id": "aoijneOCngAX"
      },
      "source": [
        ""
      ],
      "execution_count": null,
      "outputs": []
    },
    {
      "cell_type": "code",
      "metadata": {
        "id": "zWmOxwcaR7W_"
      },
      "source": [
        "!wget https://github.com/ravi-ilango/aicamp-mar-2021/blob/main/lab2_3/train.csv.zip?raw=true -O train.csv.zip\n",
        "\n",
        "!unzip train.csv.zip\n"
      ],
      "execution_count": null,
      "outputs": []
    },
    {
      "cell_type": "code",
      "metadata": {
        "id": "VMsRid-JANQM"
      },
      "source": [
        "df = pd.read_csv('train.csv')\n",
        "df.head()"
      ],
      "execution_count": null,
      "outputs": []
    },
    {
      "cell_type": "code",
      "metadata": {
        "id": "V4NUnRrnBOG9"
      },
      "source": [
        "df = df[~df['question1'].isnull() & ~df['question2'].isnull()]"
      ],
      "execution_count": null,
      "outputs": []
    },
    {
      "cell_type": "code",
      "metadata": {
        "id": "mzgJ5SqHngAa"
      },
      "source": [
        ""
      ],
      "execution_count": null,
      "outputs": []
    },
    {
      "cell_type": "markdown",
      "metadata": {
        "id": "aw_PL826dBsM"
      },
      "source": [
        "#### Explore data"
      ]
    },
    {
      "cell_type": "code",
      "metadata": {
        "id": "FNasjnIpAhhi"
      },
      "source": [
        "df['length1'] = df['question1'].apply(lambda s: len(s.split()))\n",
        "df['length1'].hist()"
      ],
      "execution_count": null,
      "outputs": []
    },
    {
      "cell_type": "code",
      "metadata": {
        "id": "qXDF85H5AifP"
      },
      "source": [
        "df['length2'] = df['question2'].apply(lambda s: len(s.split()))\n",
        "df['length2'].hist()"
      ],
      "execution_count": null,
      "outputs": []
    },
    {
      "cell_type": "code",
      "metadata": {
        "id": "RjFYo5q7Br3e"
      },
      "source": [
        "labels = df.is_duplicate.values\n",
        "\n",
        "plt.hist(labels)\n",
        "plt.xlabel('target')\n",
        "plt.ylabel('count')\n",
        "plt.title('target distribution')\n",
        "plt.xticks(np.arange(len(np.unique(labels))));"
      ],
      "execution_count": null,
      "outputs": []
    },
    {
      "cell_type": "code",
      "metadata": {
        "id": "XM4ORGexCHlg"
      },
      "source": [
        "from wordcloud import WordCloud\n",
        "train_qs = df.question1.values\n",
        "cloud = WordCloud(width=1440, height=1080).generate(\" \".join(train_qs.astype(str)))\n",
        "plt.figure(figsize=(20, 15))\n",
        "plt.imshow(cloud)\n",
        "plt.axis('off')\n"
      ],
      "execution_count": null,
      "outputs": []
    },
    {
      "cell_type": "markdown",
      "metadata": {
        "id": "vl7jfvZFpl8d"
      },
      "source": [
        "#### Exercise: Draw the wordcloud for the words in question2 column"
      ]
    },
    {
      "cell_type": "code",
      "metadata": {
        "id": "W50G0sTBCq_D"
      },
      "source": [
        ""
      ],
      "execution_count": null,
      "outputs": []
    },
    {
      "cell_type": "code",
      "metadata": {
        "id": "UldJEz8VpwWi"
      },
      "source": [
        ""
      ],
      "execution_count": null,
      "outputs": []
    },
    {
      "cell_type": "code",
      "metadata": {
        "id": "bdeEjT4Zpw4P"
      },
      "source": [
        ""
      ],
      "execution_count": null,
      "outputs": []
    },
    {
      "cell_type": "markdown",
      "metadata": {
        "id": "NzknDlv4p1Nv"
      },
      "source": [
        "#### Get a subset of data for similarity detection"
      ]
    },
    {
      "cell_type": "code",
      "metadata": {
        "id": "2OlperVwIDXv"
      },
      "source": [
        "df_ = pd.concat([df[df.is_duplicate == 0].sample(n=5000, random_state=12),\n",
        "                df[df.is_duplicate == 1].sample(n=5000, random_state=18)])\n",
        "\n",
        "labels = df_.is_duplicate.values\n",
        "\n",
        "plt.hist(labels)\n",
        "plt.xlabel('target')\n",
        "plt.ylabel('count')\n",
        "plt.title('target distribution')\n",
        "plt.xticks(np.arange(len(np.unique(labels))));"
      ],
      "execution_count": null,
      "outputs": []
    },
    {
      "cell_type": "code",
      "metadata": {
        "id": "ZlKe8pzIngAd"
      },
      "source": [
        ""
      ],
      "execution_count": null,
      "outputs": []
    },
    {
      "cell_type": "markdown",
      "metadata": {
        "id": "27ZYcWmGngAd"
      },
      "source": [
        "#### Using sentence transformer"
      ]
    },
    {
      "cell_type": "code",
      "metadata": {
        "id": "R9_yX_i5RsPU"
      },
      "source": [
        "model = SentenceTransformer('sentence-transformers/all-MiniLM-L6-v2')"
      ],
      "execution_count": null,
      "outputs": []
    },
    {
      "cell_type": "code",
      "metadata": {
        "id": "WQIl1VVmQZ_H"
      },
      "source": [
        "# Single list of sentences - Possible tens of thousands of sentences\n",
        "sentences = ['The cat sits outside',\n",
        "             'A man is playing guitar',\n",
        "             'I love pasta',\n",
        "             'The new movie is awesome',\n",
        "             'The cat plays in the garden',\n",
        "             'A woman watches TV',\n",
        "             'The new movie is so great',\n",
        "             'Do you like pizza?']\n",
        "\n",
        "#embeddings = model.encode(sentences)\n",
        "paraphrases = util.paraphrase_mining(model, sentences)\n",
        "paraphrases[:10]"
      ],
      "execution_count": null,
      "outputs": []
    },
    {
      "cell_type": "code",
      "metadata": {
        "id": "cLpvG-FBngAe"
      },
      "source": [
        ""
      ],
      "execution_count": null,
      "outputs": []
    },
    {
      "cell_type": "markdown",
      "metadata": {
        "id": "YxiKyJcsngAe"
      },
      "source": [
        "#### Using sentence transformer to score quora questions"
      ]
    },
    {
      "cell_type": "code",
      "metadata": {
        "id": "rD_y3RzfDJAL"
      },
      "source": [
        "df_['score'] = df_.apply(lambda row: util.paraphrase_mining(model, [row['question1'], row['question2']]), axis=1)\n"
      ],
      "execution_count": null,
      "outputs": []
    },
    {
      "cell_type": "code",
      "metadata": {
        "id": "ZKjSi3oZVkAT"
      },
      "source": [
        "df_.head()"
      ],
      "execution_count": null,
      "outputs": []
    },
    {
      "cell_type": "code",
      "metadata": {
        "id": "HY_Z74OCngAf"
      },
      "source": [
        ""
      ],
      "execution_count": null,
      "outputs": []
    },
    {
      "cell_type": "code",
      "metadata": {
        "id": "t69YCkPCpKax"
      },
      "source": [
        ""
      ],
      "execution_count": null,
      "outputs": []
    },
    {
      "cell_type": "markdown",
      "metadata": {
        "id": "g21k_gvvpRmS"
      },
      "source": [
        "#### Exercise:  replace the <REPLACETHIS> token with the score and produce the accuracy report"
      ]
    },
    {
      "cell_type": "code",
      "metadata": {
        "id": "F8h23HI3P4tJ"
      },
      "source": [
        "from sklearn.metrics import classification_report\n",
        "\n",
        "thresh_ = .7\n",
        "y_pred = df_['score'].apply(lambda x: 1 if <REPLACETHIS> > thresh_ else 0)\n",
        "print(classification_report(df_['is_duplicate'].values, y_pred))\n"
      ],
      "execution_count": null,
      "outputs": []
    },
    {
      "cell_type": "code",
      "metadata": {
        "id": "qn9YbUIKDJW6"
      },
      "source": [
        ""
      ],
      "execution_count": null,
      "outputs": []
    }
  ]
}