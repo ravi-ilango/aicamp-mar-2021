{
 "cells": [
  {
   "cell_type": "markdown",
   "metadata": {},
   "source": [
    "### Quora question pairs - Use transformers for question comparison\n",
    "\n",
    "Data: from kaggle"
   ]
  },
  {
   "cell_type": "code",
   "execution_count": null,
   "metadata": {
    "colab": {
     "base_uri": "https://localhost:8080/"
    },
    "id": "mnImPxOhQdjc",
    "outputId": "359b1e34-5105-4b8a-83e3-c7f5f8987078"
   },
   "outputs": [],
   "source": [
    "!pip install -U sentence-transformers\n"
   ]
  },
  {
   "cell_type": "code",
   "execution_count": null,
   "metadata": {
    "id": "TRxQp9uwS6FQ"
   },
   "outputs": [],
   "source": []
  },
  {
   "cell_type": "code",
   "execution_count": null,
   "metadata": {
    "id": "Qt6Y6Ss3QWrU"
   },
   "outputs": [],
   "source": [
    "from sentence_transformers import SentenceTransformer, util\n",
    "\n",
    "import pandas as pd\n",
    "import numpy as np\n",
    "\n",
    "from sklearn.metrics.pairwise import cosine_similarity\n",
    "\n",
    "import matplotlib.pyplot as plt\n",
    "%matplotlib inline"
   ]
  },
  {
   "cell_type": "code",
   "execution_count": null,
   "metadata": {
    "id": "-B2Tvwobb8g7"
   },
   "outputs": [],
   "source": []
  },
  {
   "cell_type": "markdown",
   "metadata": {
    "id": "tF-JkmKQb-YQ"
   },
   "source": [
    "#### Prepare data - Quora questions"
   ]
  },
  {
   "cell_type": "code",
   "execution_count": null,
   "metadata": {},
   "outputs": [],
   "source": []
  },
  {
   "cell_type": "code",
   "execution_count": null,
   "metadata": {
    "colab": {
     "base_uri": "https://localhost:8080/"
    },
    "id": "zWmOxwcaR7W_",
    "outputId": "5c7d46f2-347b-4a4a-aa64-f55c9eca5a35"
   },
   "outputs": [],
   "source": [
    "!wget https://github.com/ravi-ilango/aicamp-mar-2021/blob/main/lab2_3/train.csv.zip?raw=true -O train.csv.zip\n",
    "\n",
    "!unzip train.csv.zip\n"
   ]
  },
  {
   "cell_type": "code",
   "execution_count": null,
   "metadata": {
    "colab": {
     "base_uri": "https://localhost:8080/",
     "height": 287
    },
    "id": "VMsRid-JANQM",
    "outputId": "40a06e07-1da1-4a88-ff93-a6368d80cb56"
   },
   "outputs": [],
   "source": [
    "df = pd.read_csv('train.csv')\n",
    "df.head()"
   ]
  },
  {
   "cell_type": "code",
   "execution_count": null,
   "metadata": {
    "id": "V4NUnRrnBOG9"
   },
   "outputs": [],
   "source": [
    "df = df[~df['question1'].isnull() & ~df['question2'].isnull()]"
   ]
  },
  {
   "cell_type": "code",
   "execution_count": null,
   "metadata": {},
   "outputs": [],
   "source": []
  },
  {
   "cell_type": "markdown",
   "metadata": {
    "id": "aw_PL826dBsM"
   },
   "source": [
    "#### Explore data"
   ]
  },
  {
   "cell_type": "code",
   "execution_count": null,
   "metadata": {
    "colab": {
     "base_uri": "https://localhost:8080/",
     "height": 282
    },
    "id": "FNasjnIpAhhi",
    "outputId": "6b3fed5c-24e7-4d00-8420-b831460199e6"
   },
   "outputs": [],
   "source": [
    "df['length1'] = df['question1'].apply(lambda s: len(s.split()))\n",
    "df['length1'].hist()"
   ]
  },
  {
   "cell_type": "code",
   "execution_count": null,
   "metadata": {
    "colab": {
     "base_uri": "https://localhost:8080/",
     "height": 283
    },
    "id": "qXDF85H5AifP",
    "outputId": "f1a93f91-7027-423a-f2e2-b764c03f23f7"
   },
   "outputs": [],
   "source": [
    "df['length2'] = df['question2'].apply(lambda s: len(s.split()))\n",
    "df['length2'].hist()"
   ]
  },
  {
   "cell_type": "code",
   "execution_count": null,
   "metadata": {
    "colab": {
     "base_uri": "https://localhost:8080/",
     "height": 295
    },
    "id": "RjFYo5q7Br3e",
    "outputId": "b380bf76-2614-4822-c930-99790d219dc7"
   },
   "outputs": [],
   "source": [
    "labels = df.is_duplicate.values\n",
    "\n",
    "plt.hist(labels)\n",
    "plt.xlabel('target')\n",
    "plt.ylabel('count')\n",
    "plt.title('target distribution')\n",
    "plt.xticks(np.arange(len(np.unique(labels))));"
   ]
  },
  {
   "cell_type": "code",
   "execution_count": null,
   "metadata": {
    "colab": {
     "base_uri": "https://localhost:8080/",
     "height": 609
    },
    "id": "XM4ORGexCHlg",
    "outputId": "8ea272ae-597f-4b4c-9539-cb1a2b3553a2"
   },
   "outputs": [],
   "source": [
    "from wordcloud import WordCloud\n",
    "train_qs = df.question1.values\n",
    "cloud = WordCloud(width=1440, height=1080).generate(\" \".join(train_qs.astype(str)))\n",
    "plt.figure(figsize=(20, 15))\n",
    "plt.imshow(cloud)\n",
    "plt.axis('off')\n"
   ]
  },
  {
   "cell_type": "code",
   "execution_count": null,
   "metadata": {
    "colab": {
     "base_uri": "https://localhost:8080/",
     "height": 609
    },
    "id": "W50G0sTBCq_D",
    "outputId": "f972a74f-e23b-4707-e2b4-5aa96a17afae"
   },
   "outputs": [],
   "source": [
    "train_qs = df.question2.values\n",
    "cloud = WordCloud(width=1440, height=1080).generate(\" \".join(train_qs.astype(str)))\n",
    "plt.figure(figsize=(20, 15))\n",
    "plt.imshow(cloud)\n",
    "plt.axis('off')"
   ]
  },
  {
   "cell_type": "code",
   "execution_count": null,
   "metadata": {
    "colab": {
     "base_uri": "https://localhost:8080/",
     "height": 295
    },
    "id": "2OlperVwIDXv",
    "outputId": "ceb55694-76c8-46ab-caa0-db052a622e79"
   },
   "outputs": [],
   "source": [
    "df_ = pd.concat([df[df.is_duplicate == 0].sample(n=5000, random_state=12),\n",
    "                df[df.is_duplicate == 1].sample(n=5000, random_state=18)])\n",
    "\n",
    "labels = df_.is_duplicate.values\n",
    "\n",
    "plt.hist(labels)\n",
    "plt.xlabel('target')\n",
    "plt.ylabel('count')\n",
    "plt.title('target distribution')\n",
    "plt.xticks(np.arange(len(np.unique(labels))));"
   ]
  },
  {
   "cell_type": "code",
   "execution_count": null,
   "metadata": {},
   "outputs": [],
   "source": []
  },
  {
   "cell_type": "markdown",
   "metadata": {},
   "source": [
    "#### Using sentence transformer"
   ]
  },
  {
   "cell_type": "code",
   "execution_count": null,
   "metadata": {
    "id": "R9_yX_i5RsPU"
   },
   "outputs": [],
   "source": [
    "model = SentenceTransformer('sentence-transformers/all-MiniLM-L6-v2')"
   ]
  },
  {
   "cell_type": "code",
   "execution_count": null,
   "metadata": {
    "colab": {
     "base_uri": "https://localhost:8080/"
    },
    "id": "WQIl1VVmQZ_H",
    "outputId": "fa134876-0b45-4479-ed31-7dc000f312da"
   },
   "outputs": [],
   "source": [
    "# Single list of sentences - Possible tens of thousands of sentences\n",
    "sentences = ['The cat sits outside',\n",
    "             'A man is playing guitar',\n",
    "             'I love pasta',\n",
    "             'The new movie is awesome',\n",
    "             'The cat plays in the garden',\n",
    "             'A woman watches TV',\n",
    "             'The new movie is so great',\n",
    "             'Do you like pizza?']\n",
    "\n",
    "#embeddings = model.encode(sentences)\n",
    "paraphrases = util.paraphrase_mining(model, sentences)\n",
    "paraphrases[:10]"
   ]
  },
  {
   "cell_type": "code",
   "execution_count": null,
   "metadata": {},
   "outputs": [],
   "source": []
  },
  {
   "cell_type": "markdown",
   "metadata": {},
   "source": [
    "#### Using sentence transformer to score quora questions"
   ]
  },
  {
   "cell_type": "code",
   "execution_count": null,
   "metadata": {
    "id": "rD_y3RzfDJAL"
   },
   "outputs": [],
   "source": [
    "df_['score'] = df_.apply(lambda row: util.paraphrase_mining(model, [row['question1'], row['question2']]), axis=1)\n"
   ]
  },
  {
   "cell_type": "code",
   "execution_count": null,
   "metadata": {
    "colab": {
     "base_uri": "https://localhost:8080/",
     "height": 593
    },
    "id": "ZKjSi3oZVkAT",
    "outputId": "28842130-c894-4084-bdac-7d9a7af9af52"
   },
   "outputs": [],
   "source": [
    "df_.head()"
   ]
  },
  {
   "cell_type": "code",
   "execution_count": null,
   "metadata": {},
   "outputs": [],
   "source": []
  },
  {
   "cell_type": "markdown",
   "metadata": {
    "id": "psw_uwM7c4Qd"
   },
   "source": [
    "#### Accuracy of detection"
   ]
  },
  {
   "cell_type": "code",
   "execution_count": null,
   "metadata": {
    "colab": {
     "base_uri": "https://localhost:8080/"
    },
    "id": "F8h23HI3P4tJ",
    "outputId": "3128765a-312d-4178-80a1-2221e27ed4a1"
   },
   "outputs": [],
   "source": [
    "from sklearn.metrics import classification_report\n",
    "\n",
    "thresh_ = .7\n",
    "y_pred = df_['score'].apply(lambda x: 1 if x > thresh_ else 0)\n",
    "print(classification_report(df_['is_duplicate'].values, y_pred))\n"
   ]
  },
  {
   "cell_type": "code",
   "execution_count": null,
   "metadata": {
    "id": "qn9YbUIKDJW6"
   },
   "outputs": [],
   "source": []
  }
 ],
 "metadata": {
  "accelerator": "GPU",
  "colab": {
   "collapsed_sections": [],
   "name": "Quora-deduplicate.ipynb",
   "provenance": []
  },
  "kernelspec": {
   "display_name": "Python 3",
   "language": "python",
   "name": "python3"
  },
  "language_info": {
   "codemirror_mode": {
    "name": "ipython",
    "version": 3
   },
   "file_extension": ".py",
   "mimetype": "text/x-python",
   "name": "python",
   "nbconvert_exporter": "python",
   "pygments_lexer": "ipython3",
   "version": "3.7.3"
  }
 },
 "nbformat": 4,
 "nbformat_minor": 1
}
