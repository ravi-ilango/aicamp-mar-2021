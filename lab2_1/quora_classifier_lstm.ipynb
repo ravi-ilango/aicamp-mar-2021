{
 "cells": [
  {
   "cell_type": "markdown",
   "metadata": {
    "id": "AFQT1CZGkMVJ"
   },
   "source": [
    "# Quora Insincere Questions Classification\n",
    "## Detect toxic content to improve online conversations\n",
    "\n"
   ]
  },
  {
   "cell_type": "code",
   "execution_count": null,
   "metadata": {
    "colab": {
     "base_uri": "https://localhost:8080/"
    },
    "id": "JJ2jw6OlkMVK",
    "outputId": "b2876015-25c3-476e-d7b0-c31fd2fa6f6a"
   },
   "outputs": [],
   "source": [
    "!wget https://github.com/ravi-ilango/acm-dec-2020-nlp/blob/main/lab2_1/quora_data.zip?raw=true -O quora_data.zip\n",
    "\n",
    "!unzip quora_data.zip"
   ]
  },
  {
   "cell_type": "code",
   "execution_count": null,
   "metadata": {
    "id": "NnrBk_DwkMVL"
   },
   "outputs": [],
   "source": [
    "import random\n",
    "import os\n",
    "from datetime import datetime\n",
    "import pandas as pd\n",
    "\n",
    "import torch   \n",
    "from torchtext import data \n",
    "from torch.autograd import Variable"
   ]
  },
  {
   "cell_type": "code",
   "execution_count": null,
   "metadata": {
    "id": "ywRd3TxnkMVL"
   },
   "outputs": [],
   "source": [
    "#Reproducing same results\n",
    "SEED = 2315\n",
    "\n",
    "#Torch\n",
    "torch.manual_seed(SEED)\n",
    "\n",
    "#Cuda algorithms\n",
    "torch.backends.cudnn.deterministic = True "
   ]
  },
  {
   "cell_type": "code",
   "execution_count": null,
   "metadata": {
    "id": "YDwJRbGTkMVM"
   },
   "outputs": [],
   "source": []
  },
  {
   "cell_type": "markdown",
   "metadata": {
    "id": "K-2121-jkMVM"
   },
   "source": [
    "### Load custom dataset"
   ]
  },
  {
   "cell_type": "code",
   "execution_count": null,
   "metadata": {
    "colab": {
     "base_uri": "https://localhost:8080/",
     "height": 215
    },
    "id": "LiEahtGikMVM",
    "outputId": "1095323f-d63a-463a-cad0-ea7fec07733f"
   },
   "outputs": [],
   "source": [
    "df = pd.read_csv('quora_data/train.csv')\n",
    "\n",
    "print (f\"Number of records: {len(df)}\")\n",
    "\n",
    "df.head()"
   ]
  },
  {
   "cell_type": "code",
   "execution_count": null,
   "metadata": {
    "id": "SYx-kshlkMVN"
   },
   "outputs": [],
   "source": [
    "df['length'] = df['question_text'].apply(lambda s: len(s.split()))\n",
    "df.sort_values(by=['length'], ascending=False, inplace=True)"
   ]
  },
  {
   "cell_type": "code",
   "execution_count": null,
   "metadata": {
    "colab": {
     "base_uri": "https://localhost:8080/",
     "height": 282
    },
    "id": "0SVN8_rakMVN",
    "outputId": "941f78d0-1dcb-4138-de13-ea2dca0ec120"
   },
   "outputs": [],
   "source": [
    "df['length'].hist()"
   ]
  },
  {
   "cell_type": "code",
   "execution_count": null,
   "metadata": {
    "id": "TvNC126dkMVO"
   },
   "outputs": [],
   "source": [
    "df = df[(df['length'] >= 5) & (df['length'] <= 30)]"
   ]
  },
  {
   "cell_type": "code",
   "execution_count": null,
   "metadata": {
    "colab": {
     "base_uri": "https://localhost:8080/",
     "height": 198
    },
    "id": "uAF_cmBgkMVO",
    "outputId": "bb12546b-4c8c-47cf-876c-483407469661"
   },
   "outputs": [],
   "source": [
    "df.head()"
   ]
  },
  {
   "cell_type": "code",
   "execution_count": null,
   "metadata": {
    "id": "BHgV_WhskMVO"
   },
   "outputs": [],
   "source": [
    "from torchtext.data.utils import get_tokenizer\n",
    "from collections import Counter\n",
    "from torchtext.vocab import Vocab\n",
    "\n",
    "tokenizer = get_tokenizer('basic_english')\n"
   ]
  },
  {
   "cell_type": "code",
   "execution_count": null,
   "metadata": {
    "id": "eo4_AwDykMVP"
   },
   "outputs": [],
   "source": [
    "# This step takes few minutes\n",
    "\n",
    "counter = Counter()\n",
    "for _, row in df.iterrows():\n",
    "    counter.update(tokenizer(row['question_text']))\n",
    "\n",
    "vocab = Vocab(counter, min_freq=1)"
   ]
  },
  {
   "cell_type": "code",
   "execution_count": null,
   "metadata": {
    "colab": {
     "base_uri": "https://localhost:8080/"
    },
    "id": "THozdaIrkMVP",
    "outputId": "f627b6c2-2edc-46e1-921f-50ff7ab7d21f"
   },
   "outputs": [],
   "source": [
    "print(f\"Size of TEXT vocabulary: {len(vocab)}\\n\")\n",
    "\n",
    "print(f\"Commonly used words: {vocab.freqs.most_common(10)}\\n\")"
   ]
  },
  {
   "cell_type": "code",
   "execution_count": null,
   "metadata": {
    "id": "sdBnFHe9kMVP"
   },
   "outputs": [],
   "source": [
    "text_pipeline = lambda x: [vocab[token] for token in tokenizer(x)]\n",
    "\n",
    "label_pipeline = lambda x: int(x)"
   ]
  },
  {
   "cell_type": "markdown",
   "metadata": {
    "id": "6J2N6JhQkMVQ"
   },
   "source": [
    "### Custom DataLoader"
   ]
  },
  {
   "cell_type": "code",
   "execution_count": null,
   "metadata": {
    "colab": {
     "base_uri": "https://localhost:8080/"
    },
    "id": "4fyXLGR0kMVQ",
    "outputId": "b25b03f9-02e7-44a9-f9dd-40d23219a419"
   },
   "outputs": [],
   "source": [
    "#Split into training and validation datasets\n",
    "\n",
    "from sklearn.model_selection import train_test_split\n",
    "\n",
    "train, test = train_test_split(df, test_size=0.5)\n",
    "train, valid = train_test_split(train, test_size=0.4)\n",
    "\n",
    "train.sort_values(by=['length'], ascending=False, inplace=True)\n",
    "test.sort_values(by=['length'], ascending=False, inplace=True)\n",
    "valid.sort_values(by=['length'], ascending=False, inplace=True)"
   ]
  },
  {
   "cell_type": "code",
   "execution_count": null,
   "metadata": {
    "colab": {
     "base_uri": "https://localhost:8080/",
     "height": 407
    },
    "id": "7dJfn_ygkMVR",
    "outputId": "24bd4492-9109-4364-96ab-d3ab05f134e1"
   },
   "outputs": [],
   "source": [
    "test"
   ]
  },
  {
   "cell_type": "code",
   "execution_count": null,
   "metadata": {
    "id": "ZwXiJjMNkMVR"
   },
   "outputs": [],
   "source": [
    "from torch.utils.data import DataLoader\n",
    "device = torch.device(\"cuda\" if torch.cuda.is_available() else \"cpu\")\n",
    "\n",
    "from torch.utils.data import Dataset\n",
    "\n",
    "class PandasDataset(Dataset):\n",
    "    def __init__(self, dataframe):\n",
    "        self.dataframe = dataframe\n",
    "\n",
    "    def __len__(self):\n",
    "        return len(self.dataframe)\n",
    "\n",
    "    def __getitem__(self, index):\n",
    "        return self.dataframe.iloc[index]\n",
    "\n",
    "def generate_batch(batch):\n",
    "    label_list, text_list, text_length_list = [], [], []\n",
    "    SEQSIZE = len(batch[0]['question_text'].split())\n",
    "    for row in batch:\n",
    "        _text = row['question_text']\n",
    "        _label = row['target']\n",
    "        label_list.append(label_pipeline(_label))\n",
    "        processed_text = text_pipeline(_text)[:SEQSIZE]\n",
    "        text_length_list.append(len(processed_text))\n",
    "        processed_text += [1]*(SEQSIZE-len(processed_text))\n",
    "        text_list.append(processed_text)\n",
    "    label_list = torch.tensor(label_list, dtype=torch.float32)\n",
    "    text_list = torch.tensor(text_list, dtype=torch.int64)\n",
    "    text_length_list = torch.tensor(text_length_list, dtype=torch.int64)\n",
    "    return label_list.to(device), text_list.to(device), text_length_list\n",
    "    \n",
    "batch_size = 64\n",
    "\n",
    "dataloader_train = DataLoader(PandasDataset(train), batch_size=batch_size, shuffle=False, collate_fn=generate_batch)\n",
    "\n",
    "dataloader_test = DataLoader(PandasDataset(test), batch_size=batch_size, shuffle=False, collate_fn=generate_batch)\n",
    "\n",
    "dataloader_valid = DataLoader(PandasDataset(valid), batch_size=batch_size, shuffle=False, collate_fn=generate_batch)"
   ]
  },
  {
   "cell_type": "code",
   "execution_count": null,
   "metadata": {
    "colab": {
     "base_uri": "https://localhost:8080/"
    },
    "id": "tTa65N3bkMVR",
    "outputId": "4707b889-4698-47ab-f43d-a9bb3f1c0c05"
   },
   "outputs": [],
   "source": [
    "len(dataloader_train)"
   ]
  },
  {
   "cell_type": "markdown",
   "metadata": {
    "id": "7oYMiDwgkMVS"
   },
   "source": [
    "### LSTM Classifier"
   ]
  },
  {
   "cell_type": "code",
   "execution_count": null,
   "metadata": {
    "id": "9Zfuj0OYkMVS"
   },
   "outputs": [],
   "source": [
    "import torch.nn as nn\n",
    "\n",
    "class classifier(nn.Module):\n",
    "    \n",
    "    #define all the layers used in model\n",
    "    def __init__(self, vocab_size, embedding_dim, hidden_dim, output_dim, num_layers, \n",
    "                 bidirectional, dropout):\n",
    "        \n",
    "        #Constructor\n",
    "        super().__init__()          \n",
    "        \n",
    "        #embedding layer\n",
    "        self.embedding = nn.Embedding(vocab_size, embedding_dim)\n",
    "        \n",
    "        #lstm layer\n",
    "        self.lstm = nn.LSTM(embedding_dim, \n",
    "                           hidden_dim, \n",
    "                           num_layers=num_layers, \n",
    "                           bidirectional=bidirectional, \n",
    "                           dropout=dropout,\n",
    "                           batch_first=True)\n",
    "        \n",
    "        #dense layer\n",
    "        self.fc = nn.Linear(hidden_dim * 2, output_dim)\n",
    "        \n",
    "        #activation function\n",
    "        self.act = nn.Sigmoid()\n",
    "        \n",
    "    def forward(self, text, text_lengths):\n",
    "        \n",
    "        #text = [batch size,sent_length]\n",
    "        embedded = self.embedding(text)\n",
    "        #embedded = [batch size, sent_len, emb dim]\n",
    "      \n",
    "        #packed sequence\n",
    "        packed_embedded = nn.utils.rnn.pack_padded_sequence(embedded, \n",
    "                                                            text_lengths,\n",
    "                                                            batch_first=True,\n",
    "                                                            enforce_sorted=False)\n",
    "        packed_output, (hidden, cell) = self.lstm(packed_embedded)\n",
    "\n",
    "        #hidden = [batch size, num layers * num directions,hid dim]\n",
    "        #cell = [batch size, num layers * num directions,hid dim]\n",
    "\n",
    "        #concat the final forward and backward hidden state\n",
    "        hidden = torch.cat((hidden[-2,:,:], hidden[-1,:,:]), dim = 1)\n",
    "                \n",
    "        #hidden = [batch size, hid dim * num directions]\n",
    "        dense_outputs=self.fc(hidden)\n",
    "\n",
    "        #Final activation function\n",
    "        outputs=self.act(dense_outputs)\n",
    "        \n",
    "        return outputs\n"
   ]
  },
  {
   "cell_type": "markdown",
   "metadata": {
    "id": "RKQhp9LfkMVT"
   },
   "source": [
    "#### Instantiate a LSTM Classifier model"
   ]
  },
  {
   "cell_type": "code",
   "execution_count": null,
   "metadata": {
    "id": "-8ted3ThkMVT"
   },
   "outputs": [],
   "source": [
    "#define hyperparameters\n",
    "size_of_vocab = len(vocab)\n",
    "embedding_dim = 100\n",
    "hidden_dim = 32\n",
    "output_dim = 1\n",
    "num_layers = 2\n",
    "bidirection = True\n",
    "dropout = 0.2\n",
    "\n",
    "#instantiate the model\n",
    "model = classifier(size_of_vocab, embedding_dim, hidden_dim, output_dim, num_layers, \n",
    "                   bidirectional = True, dropout = dropout)\n",
    "\n"
   ]
  },
  {
   "cell_type": "code",
   "execution_count": null,
   "metadata": {
    "id": "OfKDgJ6hkMVT"
   },
   "outputs": [],
   "source": []
  },
  {
   "cell_type": "code",
   "execution_count": null,
   "metadata": {
    "colab": {
     "base_uri": "https://localhost:8080/"
    },
    "id": "YFvKfHC7kMVU",
    "outputId": "f460e54b-62c6-4083-c30d-9e9fac80a118"
   },
   "outputs": [],
   "source": [
    "#architecture\n",
    "print(model)\n",
    "\n",
    "#No. of trainable parameters\n",
    "def count_parameters(model):\n",
    "    return sum(p.numel() for p in model.parameters() if p.requires_grad)\n",
    "    \n",
    "print(f'The model has {count_parameters(model):,} trainable parameters')\n",
    "\n",
    "# #Initialize the pretrained embedding  ()\n",
    "# pretrained_embeddings = TEXT.vocab.vectors\n",
    "# # model.embedding.weight.data.copy_(pretrained_embeddings) # TODO PLEASE USE THIS FOR LSTM\n",
    "\n",
    "# print(pretrained_embeddings.shape)"
   ]
  },
  {
   "cell_type": "code",
   "execution_count": null,
   "metadata": {
    "id": "PNzl2EWAkMVU"
   },
   "outputs": [],
   "source": [
    "import torch.optim as optim\n",
    "\n",
    "#define optimizer and loss\n",
    "optimizer = optim.Adam(model.parameters())\n",
    "criterion = nn.BCELoss()\n",
    "\n",
    "#define metric\n",
    "def binary_accuracy(preds, y):\n",
    "    #round predictions to the closest integer\n",
    "    rounded_preds = torch.round(preds)\n",
    "    \n",
    "    correct = (rounded_preds == y).float() \n",
    "    acc = correct.sum() / len(correct)\n",
    "    return acc\n",
    "    \n",
    "#push to cuda if available\n",
    "model = model.to(device)\n",
    "criterion = criterion.to(device)"
   ]
  },
  {
   "cell_type": "code",
   "execution_count": null,
   "metadata": {
    "colab": {
     "base_uri": "https://localhost:8080/"
    },
    "id": "8-SxQoyUkMVV",
    "outputId": "c2196b40-01a7-40a9-e8e2-6bf1a8f1578c"
   },
   "outputs": [],
   "source": [
    "device"
   ]
  },
  {
   "cell_type": "code",
   "execution_count": null,
   "metadata": {
    "id": "gfrlcm5pkMVV"
   },
   "outputs": [],
   "source": []
  },
  {
   "cell_type": "markdown",
   "metadata": {
    "id": "VZVi1ul7kMVV"
   },
   "source": [
    "### Model Train function "
   ]
  },
  {
   "cell_type": "code",
   "execution_count": null,
   "metadata": {
    "id": "IMQzp_QKkMVV"
   },
   "outputs": [],
   "source": [
    "def train(model, dataloader, optimizer, criterion):\n",
    "    \n",
    "    #initialize every epoch \n",
    "    epoch_loss = 0\n",
    "    epoch_acc = 0\n",
    "    \n",
    "    #set the model in training phase\n",
    "    model.train()  \n",
    "    \n",
    "    for idx, (label, text, text_lengths) in enumerate(dataloader):\n",
    "        \n",
    "        #resets the gradients after every batch\n",
    "        optimizer.zero_grad()   \n",
    "\n",
    "        #convert to 1D tensor\n",
    "        predictions = model(text, text_lengths).squeeze()\n",
    "    \n",
    "        #compute the loss\n",
    "        loss = criterion(predictions, label)\n",
    "        \n",
    "        #compute the binary accuracy\n",
    "        acc = binary_accuracy(predictions, label)   \n",
    "        \n",
    "        #backpropage the loss and compute the gradients\n",
    "        loss.backward()       \n",
    "        \n",
    "        #update the weights\n",
    "        optimizer.step()      \n",
    "        \n",
    "        #loss and accuracy\n",
    "        epoch_loss += loss.item()  \n",
    "        epoch_acc += acc.item()    \n",
    "        \n",
    "        if idx % 1000 == 0:\n",
    "            print (f\"Completed {idx}/{len(dataloader)}\")\n",
    "    return epoch_loss / len(dataloader), epoch_acc / len(dataloader)"
   ]
  },
  {
   "cell_type": "code",
   "execution_count": null,
   "metadata": {
    "id": "QQER4oiokMVW"
   },
   "outputs": [],
   "source": []
  },
  {
   "cell_type": "markdown",
   "metadata": {
    "id": "ZspAKIySkMVW"
   },
   "source": [
    "### Model Evaluate function"
   ]
  },
  {
   "cell_type": "code",
   "execution_count": null,
   "metadata": {
    "id": "Su2gNTpykMVW"
   },
   "outputs": [],
   "source": [
    "def evaluate(model, dataloader, criterion):\n",
    "    \n",
    "    #initialize every epoch\n",
    "    epoch_loss = 0\n",
    "    epoch_acc = 0\n",
    "\n",
    "    #deactivating dropout layers\n",
    "    model.eval()\n",
    "    \n",
    "    #deactivates autograd\n",
    "    with torch.no_grad():\n",
    "    \n",
    "        for _, (label, text, text_lengths) in enumerate(dataloader):\n",
    "        \n",
    "            #predict\n",
    "            predictions = model(text, text_lengths).squeeze()\n",
    "            \n",
    "            #compute loss and accuracy\n",
    "            loss = criterion(predictions, label)\n",
    "            acc = binary_accuracy(predictions, label)\n",
    "            \n",
    "            #keep track of loss and accuracy\n",
    "            epoch_loss += loss.item()\n",
    "            epoch_acc += acc.item()\n",
    "        \n",
    "    return epoch_loss / len(dataloader), epoch_acc / len(dataloader)"
   ]
  },
  {
   "cell_type": "code",
   "execution_count": null,
   "metadata": {
    "id": "Nhw5MbnrkMVX"
   },
   "outputs": [],
   "source": []
  },
  {
   "cell_type": "markdown",
   "metadata": {
    "id": "-Ijbht-dkMVX"
   },
   "source": [
    "### Check model's forward pass"
   ]
  },
  {
   "cell_type": "code",
   "execution_count": null,
   "metadata": {
    "colab": {
     "base_uri": "https://localhost:8080/"
    },
    "id": "ynGlTHRVkMVX",
    "outputId": "1223f268-abe2-4085-a5ae-d899583ac650"
   },
   "outputs": [],
   "source": [
    "#Check model device type\n",
    "next(model.parameters()).is_cuda, device"
   ]
  },
  {
   "cell_type": "code",
   "execution_count": null,
   "metadata": {
    "colab": {
     "base_uri": "https://localhost:8080/"
    },
    "id": "ExL7If9lkMVY",
    "outputId": "a4650755-51a3-460c-b58d-ab6d1e645a0e"
   },
   "outputs": [],
   "source": [
    "len(dataloader_train)"
   ]
  },
  {
   "cell_type": "code",
   "execution_count": null,
   "metadata": {
    "colab": {
     "base_uri": "https://localhost:8080/"
    },
    "id": "_Y6LqX5rkMVY",
    "outputId": "d50bb4e2-8224-4b4a-933a-71ec3ef0200e"
   },
   "outputs": [],
   "source": [
    "for idx, (label, text, text_lengths) in enumerate(dataloader_train):\n",
    "    print (\"text.shape: \", text.shape)\n",
    "    predictions = model(text, text_lengths)\n",
    "    print (\"predictions.shape: \", predictions.shape)\n",
    "    break"
   ]
  },
  {
   "cell_type": "code",
   "execution_count": null,
   "metadata": {
    "colab": {
     "base_uri": "https://localhost:8080/"
    },
    "id": "zLJRvF8zkMVY",
    "outputId": "8da03ac7-12d7-4203-de0c-a7f9f4d55d30"
   },
   "outputs": [],
   "source": [
    "text[0], predictions[0][:10], label[:10]"
   ]
  },
  {
   "cell_type": "code",
   "execution_count": null,
   "metadata": {
    "id": "fvXFRX9JkMVZ"
   },
   "outputs": [],
   "source": []
  },
  {
   "cell_type": "code",
   "execution_count": null,
   "metadata": {
    "id": "rogF2xW_kMVZ"
   },
   "outputs": [],
   "source": []
  },
  {
   "cell_type": "markdown",
   "metadata": {
    "id": "owlI1k00kMVZ"
   },
   "source": [
    "### Train the model\n",
    "\n",
    "This step takes around ~4 min"
   ]
  },
  {
   "cell_type": "code",
   "execution_count": null,
   "metadata": {
    "colab": {
     "base_uri": "https://localhost:8080/"
    },
    "id": "w5SRouBikMVZ",
    "outputId": "8b558857-2304-4c23-b87c-b3ae46a06285"
   },
   "outputs": [],
   "source": [
    "model_path = 'saved_weights.pt'\n",
    "\n",
    "N_EPOCHS = 3\n",
    "best_valid_loss = float('inf')\n",
    "\n",
    "for epoch in range(N_EPOCHS):\n",
    "     \n",
    "    ts_string = datetime.now().strftime(\"%m/%d/%Y %H:%M:%S\")\n",
    "    print(f'\\n {ts_string} Epoch: {epoch}')\n",
    "    #train the model\n",
    "    train_loss, train_acc = train(model, dataloader_train, optimizer, criterion)\n",
    "    \n",
    "    #evaluate the model\n",
    "    valid_loss, valid_acc = evaluate(model, dataloader_valid, criterion)\n",
    "    \n",
    "    #save the best model\n",
    "    if valid_loss < best_valid_loss:\n",
    "        best_valid_loss = valid_loss\n",
    "        torch.save(model.state_dict(), model_path)\n",
    "\n",
    "    print(f'\\t Train Loss: {train_loss:.3f} | Train Acc: {train_acc*100:.2f}%')\n",
    "    print(f'\\t Val. Loss: {valid_loss:.3f} |  Val. Acc: {valid_acc*100:.2f}%')"
   ]
  },
  {
   "cell_type": "markdown",
   "metadata": {
    "id": "FLsmS0s7kMVa"
   },
   "source": [
    "### Predict"
   ]
  },
  {
   "cell_type": "code",
   "execution_count": null,
   "metadata": {
    "id": "Kqt-juMJkMVa"
   },
   "outputs": [],
   "source": [
    "#load weights\n",
    "#model.load_state_dict(torch.load(model_path));\n",
    "model.eval();\n",
    "\n",
    "def prepare_text(sentence):\n",
    "    text = text_pipeline(sentence)\n",
    "    text_length = len(text)\n",
    "    tensor = torch.tensor(text, dtype=torch.int64)\n",
    "    length = torch.tensor(text_length, dtype=torch.int64)\n",
    "    tensor = tensor.unsqueeze(0)\n",
    "    length = length.unsqueeze(0)\n",
    "    return tensor.to(device), length\n",
    "\n",
    "def predict(model, sentence):\n",
    "    tensor, length = prepare_text(sentence)\n",
    "    prediction = model(tensor, length)                  #prediction \n",
    "    return prediction.item()  "
   ]
  },
  {
   "cell_type": "code",
   "execution_count": null,
   "metadata": {
    "id": "y-XtR-N7kMVa"
   },
   "outputs": [],
   "source": [
    "def insincere_or_not(pred):\n",
    "    return 'Insincere Question' if pred > .5 else 'Normal Question'"
   ]
  },
  {
   "cell_type": "code",
   "execution_count": null,
   "metadata": {
    "colab": {
     "base_uri": "https://localhost:8080/"
    },
    "id": "gOVIhvoxkMVa",
    "outputId": "3940c514-6f53-447c-e314-6a3f7f97c9f4"
   },
   "outputs": [],
   "source": [
    "#sincere question\n",
    "pred = predict(model, \"What is your favorite person in history?\")\n",
    "print (insincere_or_not(pred))"
   ]
  },
  {
   "cell_type": "code",
   "execution_count": null,
   "metadata": {
    "colab": {
     "base_uri": "https://localhost:8080/"
    },
    "id": "haMG3d-CkMVa",
    "outputId": "6eb104ec-b714-4b3d-ff96-7e4b1b35c7a8"
   },
   "outputs": [],
   "source": [
    "#insincere question\n",
    "pred = predict(model, \"Why Indian girls go crazy about marrying Shri. Rahul Gandhiji?\")\n",
    "print (insincere_or_not(pred))"
   ]
  },
  {
   "cell_type": "code",
   "execution_count": null,
   "metadata": {
    "id": "QS2aBpwBkMVa"
   },
   "outputs": [],
   "source": []
  },
  {
   "cell_type": "markdown",
   "metadata": {
    "id": "qIY4vg94kMVb"
   },
   "source": [
    "### Note\n",
    "\n",
    "This notebook used data and code from a blog in https://www.analyticsvidhya.com"
   ]
  },
  {
   "cell_type": "code",
   "execution_count": null,
   "metadata": {
    "id": "5G0JqCU8kMVb"
   },
   "outputs": [],
   "source": []
  }
 ],
 "metadata": {
  "accelerator": "GPU",
  "colab": {
   "collapsed_sections": [
    "FLsmS0s7kMVa",
    "qIY4vg94kMVb"
   ],
   "name": "quora_classifier_lstm_new.ipynb",
   "provenance": []
  },
  "kernelspec": {
   "display_name": "venv",
   "language": "python",
   "name": "venv"
  },
  "language_info": {
   "codemirror_mode": {
    "name": "ipython",
    "version": 3
   },
   "file_extension": ".py",
   "mimetype": "text/x-python",
   "name": "python",
   "nbconvert_exporter": "python",
   "pygments_lexer": "ipython3",
   "version": "3.7.3"
  }
 },
 "nbformat": 4,
 "nbformat_minor": 1
}
